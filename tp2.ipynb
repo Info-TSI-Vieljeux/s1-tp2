{
 "cells": [
  {
   "cell_type": "markdown",
   "id": "72ca2bc0",
   "metadata": {},
   "source": [
    ">Ouvrir le notebook dans Colab en modifiant le début de son adresse dans le navigateur :<br>\n",
    "il faut remplacer **github.com** par **githubtocolab.com**.<br>\n",
    "Une fois vos réponses apportées, le notebook devra être sauvegardé dans GitHub, dans le repository du TP :<br>\n",
    "*Fichier > Enregistrer une copie dans Github*<br>\n",
    "*Info-TSI-Vieljeux/tpx-votre_nom*<br>\n",
    "\n",
    "---"
   ]
  },
  {
   "cell_type": "markdown",
   "id": "322ba364",
   "metadata": {
    "deletable": false,
    "editable": false,
    "nbgrader": {
     "cell_type": "markdown",
     "checksum": "3b3ea558776ad67eb1896be9a780b8c2",
     "grade": false,
     "grade_id": "cell-2fe73285127c7bed",
     "locked": true,
     "schema_version": 3,
     "solution": false,
     "task": false
    }
   },
   "source": [
    "# Algorithmes opérant sur une structure séquentielle par boucles simples ou imbriquées"
   ]
  },
  {
   "cell_type": "markdown",
   "id": "75e98db9",
   "metadata": {
    "deletable": false,
    "editable": false,
    "nbgrader": {
     "cell_type": "markdown",
     "checksum": "ba9af8a0f93cdf81a5b5b115ba7239bb",
     "grade": false,
     "grade_id": "cell-172e0a8e3459775f",
     "locked": true,
     "schema_version": 3,
     "solution": false,
     "task": false
    }
   },
   "source": [
    "## Chercher un mot dans un texte"
   ]
  },
  {
   "cell_type": "markdown",
   "id": "158cd4e2",
   "metadata": {
    "deletable": false,
    "editable": false,
    "nbgrader": {
     "cell_type": "markdown",
     "checksum": "e2bc18eb753761a14a3230be0ce1198c",
     "grade": false,
     "grade_id": "cell-62602ae4c4ead28d",
     "locked": true,
     "schema_version": 3,
     "solution": false,
     "task": false
    }
   },
   "source": [
    "Écrire une fonction `cherche_mot` naïve qui recherche si un mot est présent dans un texte en comparant chaque morceau du texte de la taille du mot au mot recherché.<br>\n",
    "Vous devrez vous assurez (grâce à des assertions) que le mot et le texte sont bien des chaînes de caractères et que le mot n'est pas plus long que le texte."
   ]
  },
  {
   "cell_type": "code",
   "execution_count": null,
   "id": "6870f91e",
   "metadata": {
    "deletable": false,
    "nbgrader": {
     "cell_type": "code",
     "checksum": "3e1f84df94611f0d2ddf30af7cb52247",
     "grade": false,
     "grade_id": "chmot",
     "locked": false,
     "schema_version": 3,
     "solution": true,
     "task": false
    }
   },
   "outputs": [],
   "source": [
    "def cherche_mot(mot,texte) :\n",
    "    '''\n",
    "    cherche_mot(mot:string, texte:string)->bool\n",
    "    '''\n",
    "    # VOTRE CODE"
   ]
  },
  {
   "cell_type": "code",
   "execution_count": null,
   "id": "cffe229d",
   "metadata": {
    "deletable": false,
    "editable": false,
    "nbgrader": {
     "cell_type": "code",
     "checksum": "1871d68fc5a56b67b7a405d51a31a8c9",
     "grade": true,
     "grade_id": "rep1",
     "locked": true,
     "points": 1,
     "schema_version": 3,
     "solution": false,
     "task": false
    }
   },
   "outputs": [],
   "source": [
    "# cellule de test (ne as modifier)"
   ]
  },
  {
   "cell_type": "code",
   "execution_count": null,
   "id": "87759af4",
   "metadata": {
    "deletable": false,
    "editable": false,
    "nbgrader": {
     "cell_type": "code",
     "checksum": "0fecb213af967119efb3f5c2e9701813",
     "grade": true,
     "grade_id": "rep1bis",
     "locked": true,
     "points": 1,
     "schema_version": 3,
     "solution": false,
     "task": false
    }
   },
   "outputs": [],
   "source": [
    "# cellule de test (ne as modifier)"
   ]
  },
  {
   "cell_type": "code",
   "execution_count": null,
   "id": "a39ace77",
   "metadata": {},
   "outputs": [],
   "source": [
    "# vous pouvez tester votre fonction dans cette cellule"
   ]
  },
  {
   "cell_type": "code",
   "execution_count": null,
   "id": "67a43287",
   "metadata": {
    "deletable": false,
    "editable": false,
    "nbgrader": {
     "cell_type": "code",
     "checksum": "9ed00a055cad05cbfa8eb96c2526f1a6",
     "grade": false,
     "grade_id": "cell-74e7377ca9323835",
     "locked": true,
     "schema_version": 3,
     "solution": false,
     "task": false
    }
   },
   "outputs": [],
   "source": [
    "# importation de la classique liste de mots de passe rockyou (cela prend quelques dizaines de secondes)\n",
    "from urllib.request import urlopen\n",
    "url = 'http://cordier-phychi.toile-libre.org/Info/github/rockyou.txt'\n",
    "rockyou = urlopen(url).read().decode('latin-1')\n",
    "print(f\"Le fichier rockyou contient {len(rockyou.split())} mots de passe !\")"
   ]
  },
  {
   "cell_type": "code",
   "execution_count": null,
   "id": "3848c8c2",
   "metadata": {},
   "outputs": [],
   "source": [
    "# vous pouvez tester la présence de votre mot de passe dans la liste\n",
    "mot_de_passe = '...'\n",
    "cherche_mot(mot_de_passe,rockyou)"
   ]
  },
  {
   "cell_type": "markdown",
   "id": "d9ac6119",
   "metadata": {
    "deletable": false,
    "editable": false,
    "nbgrader": {
     "cell_type": "markdown",
     "checksum": "c04fd2d849ecd27e13ed01d856f10d39",
     "grade": false,
     "grade_id": "cell-5bcf815027a4cba7",
     "locked": true,
     "schema_version": 3,
     "solution": false,
     "task": false
    }
   },
   "source": [
    "Sans ce soucier de l'implémentation, combien faudra-t-il théoriquement faire de comparaisons au minimum pour s'assurer qu'un mot de 3 caractères est absent d'une chaîne de 10 caractères ?"
   ]
  },
  {
   "cell_type": "code",
   "execution_count": null,
   "id": "73d4f12e",
   "metadata": {},
   "outputs": [],
   "source": [
    "# noter votre réponse en affectant à la variable nb1 le nombre de comparaisons calculé\n",
    "nb1 = "
   ]
  },
  {
   "cell_type": "code",
   "execution_count": null,
   "id": "b698576a",
   "metadata": {
    "deletable": false,
    "editable": false,
    "nbgrader": {
     "cell_type": "code",
     "checksum": "4fc84baa6fc41bd4f660b26510ceeebd",
     "grade": true,
     "grade_id": "rep2",
     "locked": true,
     "points": 1,
     "schema_version": 3,
     "solution": false,
     "task": false
    }
   },
   "outputs": [],
   "source": [
    "# cellule de test (ne as modifier)"
   ]
  },
  {
   "cell_type": "markdown",
   "id": "454a8ed7",
   "metadata": {
    "deletable": false,
    "editable": false,
    "nbgrader": {
     "cell_type": "markdown",
     "checksum": "4d2503d249bfa8eda7eda4edf41da905",
     "grade": false,
     "grade_id": "cell-b8285e6b6b9b1388",
     "locked": true,
     "schema_version": 3,
     "solution": false,
     "task": false
    }
   },
   "source": [
    "Traçons l'évolution du temps d'exécution de `cherche_mot` en fonction de la taille du texte pour une taille du mot fixe."
   ]
  },
  {
   "cell_type": "code",
   "execution_count": null,
   "id": "bd76f593",
   "metadata": {},
   "outputs": [],
   "source": [
    "# imports nécessaires à la cellule suivante (penser à exécuter)\n",
    "from time import time\n",
    "from random import randint\n",
    "import matplotlib.pyplot as plt\n",
    "plt.style.use('ggplot')"
   ]
  },
  {
   "cell_type": "code",
   "execution_count": null,
   "id": "03960398",
   "metadata": {
    "deletable": false,
    "editable": false,
    "nbgrader": {
     "cell_type": "code",
     "checksum": "3de58ae20907befa24b0f57ce7e6c39c",
     "grade": false,
     "grade_id": "cell-d93d119110aa7415",
     "locked": true,
     "schema_version": 3,
     "solution": false,
     "task": false
    }
   },
   "outputs": [],
   "source": [
    "I, T_ch_texte = [], []\n",
    "\n",
    "mot = '&'*100\n",
    "for i in range(10000,510000,10000) :\n",
    "    texte = rockyou[:i]\n",
    "    start = time()\n",
    "    cherche_mot(mot,texte)\n",
    "    stop = time()\n",
    "    T_ch_texte.append(stop-start)\n",
    "    I.append(i)\n",
    "\n",
    "fig,ax = plt.subplots(figsize = (15,5))\n",
    "ax.plot(I,T_ch_texte)\n",
    "ax.set(xlabel=\"longeur du texte\", ylabel=\"temps d'exécution (s)\")\n",
    "ax.set_title(\"Temps d'excution de 'cherche_mot' en fonction de la taille du texte\")\n",
    "ax.plot(I,T_ch_texte)"
   ]
  },
  {
   "cell_type": "markdown",
   "id": "efe1f05f",
   "metadata": {
    "deletable": false,
    "editable": false,
    "nbgrader": {
     "cell_type": "markdown",
     "checksum": "8e36ee6aad09bb76bdbbebdf683e41c1",
     "grade": false,
     "grade_id": "cell-4dbcdeac8c0f1049",
     "locked": true,
     "schema_version": 3,
     "solution": false,
     "task": false
    }
   },
   "source": [
    "Sur le même modèle, vous allez tracer l'évolution du temps d'exécution de `cherche_mot` en fonction de la taille du mot pour une taille de texte fixe et pour des mots petits devant le texte.<br>\n",
    "Pour cela vous compléterez le code ci-dessous."
   ]
  },
  {
   "cell_type": "code",
   "execution_count": null,
   "id": "26d161b0",
   "metadata": {
    "deletable": false,
    "nbgrader": {
     "cell_type": "code",
     "checksum": "b4c717e61d2f1c021a9b218d18c751ea",
     "grade": false,
     "grade_id": "cell-6b6e757a74decf56",
     "locked": false,
     "schema_version": 3,
     "solution": true,
     "task": false
    }
   },
   "outputs": [],
   "source": [
    "I, T_ch_mot = [], []\n",
    "\n",
    "texte = rockyou[:250000]\n",
    "for i in range(1000,12500,500) :\n",
    "    # i doit correspondre au nombre de caractères du mot\n",
    "    # VOTRE CODE\n",
    "fig,ax = plt.subplots(figsize = (15,5))\n",
    "ax.plot(I,T_ch_mot)\n",
    "ax.set(xlabel=\"longueur du mot\", ylabel=\"temps d'exécution (s)\")\n",
    "ax.set_title(\"Temps d'excution de 'cherche_mot' en fonction de la longueur du mot\")"
   ]
  },
  {
   "cell_type": "code",
   "execution_count": null,
   "id": "df5826fd",
   "metadata": {
    "deletable": false,
    "editable": false,
    "nbgrader": {
     "cell_type": "code",
     "checksum": "886b56a1d65b26e28fa8b4fd576b467a",
     "grade": true,
     "grade_id": "cell-750ed9a296085b0c",
     "locked": true,
     "points": 1,
     "schema_version": 3,
     "solution": false,
     "task": false
    }
   },
   "outputs": [],
   "source": [
    "# cellule de test (ne as modifier)"
   ]
  },
  {
   "cell_type": "markdown",
   "id": "c86b0bcf",
   "metadata": {
    "deletable": false,
    "editable": false,
    "nbgrader": {
     "cell_type": "markdown",
     "checksum": "339ccf13ccdeddbb36e24514bff4aea0",
     "grade": false,
     "grade_id": "cell-c635232291987d86",
     "locked": true,
     "schema_version": 3,
     "solution": false,
     "task": false
    }
   },
   "source": [
    "Pour des petits mots par rapport au texte et en appelant $n$ la longueur du texte et $m$ la longueur du mot, quelle fonction semble-t-elle le mieux modéliser l'évolution du temps d'exécution en fonction de $n$ et $m$ ?\n",
    "- A : $a\\times m + b\\times n$ où $a$ et $b$ sont des constantes\n",
    "- B : $a\\times m^2$ où $a$ est une constante\n",
    "- C : $a\\times n^2$ où $a$ est une constante\n",
    "- D : $a\\times m\\times n$ où $a$ est une constante\n",
    "\n",
    "Affecter ci-dessous à la variable `rep` la chaîne de caractères `'A'`,`'B'`,`'C'` ou `'D'` correspondant à votre réponse."
   ]
  },
  {
   "cell_type": "code",
   "execution_count": null,
   "id": "775103ec",
   "metadata": {},
   "outputs": [],
   "source": [
    "rep = 'E'"
   ]
  },
  {
   "cell_type": "code",
   "execution_count": null,
   "id": "5b57a8bf",
   "metadata": {
    "deletable": false,
    "editable": false,
    "nbgrader": {
     "cell_type": "code",
     "checksum": "5287d3934a805fba0d50cc84a5dc1057",
     "grade": true,
     "grade_id": "cell-863cdc829c44c3ce",
     "locked": true,
     "points": 1,
     "schema_version": 3,
     "solution": false,
     "task": false
    }
   },
   "outputs": [],
   "source": [
    "# cellule de test (ne as modifier)"
   ]
  },
  {
   "cell_type": "markdown",
   "id": "1389551a",
   "metadata": {
    "deletable": false,
    "editable": false,
    "nbgrader": {
     "cell_type": "markdown",
     "checksum": "90164a325786950f82120a96c12813c9",
     "grade": false,
     "grade_id": "cell-48cea616e37bbc57",
     "locked": true,
     "schema_version": 3,
     "solution": false,
     "task": false
    }
   },
   "source": [
    "## Chercher un doublon"
   ]
  },
  {
   "cell_type": "markdown",
   "id": "d993efc5",
   "metadata": {
    "deletable": false,
    "editable": false,
    "nbgrader": {
     "cell_type": "markdown",
     "checksum": "33f13e641702c243e061cf750858e09f",
     "grade": false,
     "grade_id": "cell-8beb8dc9f1ea9ec0",
     "locked": true,
     "schema_version": 3,
     "solution": false,
     "task": false
    }
   },
   "source": [
    "La fonction suivante cherche si un élément d'une liste se trouve en double et le cas échéant, le retourne."
   ]
  },
  {
   "cell_type": "code",
   "execution_count": null,
   "id": "7a755643",
   "metadata": {
    "deletable": false,
    "editable": false,
    "nbgrader": {
     "cell_type": "code",
     "checksum": "a8216d2cffd98bd3c73ccd4e5cf45b9f",
     "grade": false,
     "grade_id": "cell-65cdebd80d822034",
     "locked": true,
     "schema_version": 3,
     "solution": false,
     "task": false
    }
   },
   "outputs": [],
   "source": [
    "def cherche_duplicata(liste) :\n",
    "    N = len(liste)\n",
    "    for i in range(N) :\n",
    "        for j in range(N) :\n",
    "            if i != j and liste[i] == liste[j] :\n",
    "                print('Un élément en double a été trouvé :')\n",
    "                return liste[i]\n",
    "    return 'Pas de doublons trouvés 😞'\n",
    "liste_fruits = [\"🍓\", \"🍐\", \"🍊\", \"🍌\", \"🍍\", \"🍑\", \"🍎\", \"🍈\", \"🍊\", \"🍇\"]\n",
    "a = cherche_duplicata(liste_fruits)\n",
    "print(a)"
   ]
  },
  {
   "cell_type": "markdown",
   "id": "efda9c4d",
   "metadata": {
    "deletable": false,
    "editable": false,
    "nbgrader": {
     "cell_type": "markdown",
     "checksum": "933e8f5ea6a61a19bd2d854940120ff7",
     "grade": false,
     "grade_id": "cell-7d24145a3a3d7d53",
     "locked": true,
     "schema_version": 3,
     "solution": false,
     "task": false
    }
   },
   "source": [
    "Combien de fois la comparaison `liste[i] == liste[j]` est-elle opérée au maximum si la liste contient 200 éléments ?"
   ]
  },
  {
   "cell_type": "code",
   "execution_count": null,
   "id": "83cf365c",
   "metadata": {},
   "outputs": [],
   "source": [
    "# noter votre réponse en affectant à la variable nb2 le nombre de comparaisons calculé\n",
    "nb2 = "
   ]
  },
  {
   "cell_type": "code",
   "execution_count": null,
   "id": "a353a3f8",
   "metadata": {
    "deletable": false,
    "editable": false,
    "nbgrader": {
     "cell_type": "code",
     "checksum": "61e1a403e28a1ba063eeb175cb6d8b23",
     "grade": true,
     "grade_id": "rep3",
     "locked": true,
     "points": 1,
     "schema_version": 3,
     "solution": false,
     "task": false
    }
   },
   "outputs": [],
   "source": [
    "# cellule de test (ne as modifier)"
   ]
  },
  {
   "cell_type": "markdown",
   "id": "29048ad8",
   "metadata": {
    "deletable": false,
    "editable": false,
    "nbgrader": {
     "cell_type": "markdown",
     "checksum": "885795acb2859c3fc29135203488ed89",
     "grade": false,
     "grade_id": "cell-3495448eaafe2a5e",
     "locked": true,
     "schema_version": 3,
     "solution": false,
     "task": false
    }
   },
   "source": [
    "On peut aisément améliorer la fonction en évitant de doubler les comparaisons :"
   ]
  },
  {
   "cell_type": "code",
   "execution_count": null,
   "id": "4cfdd99b",
   "metadata": {
    "deletable": false,
    "editable": false,
    "nbgrader": {
     "cell_type": "code",
     "checksum": "1cd4b1fbd79b3a622322b8e8e1a8db6f",
     "grade": false,
     "grade_id": "cell-d481f64eccb68ec0",
     "locked": true,
     "schema_version": 3,
     "solution": false,
     "task": false
    }
   },
   "outputs": [],
   "source": [
    "def cherche_duplicata_bis(liste) :\n",
    "    N = len(liste)\n",
    "    for i in range(N-1) :\n",
    "        for j in range(i+1,N) :\n",
    "            if liste[i] == liste[j] :\n",
    "                print('Un élément en double a été trouvé :')\n",
    "                return liste[i]\n",
    "    return 'Pas de doublons trouvés 😞'\n",
    "liste_fruits = [\"🍓\", \"🍐\", \"🍊\", \"🍌\", \"🍍\", \"🍑\", \"🍎\", \"🍈\", \"🍊\", \"🍇\"]\n",
    "a = cherche_duplicata(liste_fruits)\n",
    "print(a)"
   ]
  },
  {
   "cell_type": "markdown",
   "id": "c776ded6",
   "metadata": {
    "deletable": false,
    "editable": false,
    "nbgrader": {
     "cell_type": "markdown",
     "checksum": "20b96a3d16d14f4921b2effd32b44f90",
     "grade": false,
     "grade_id": "cell-6a258af960794af5",
     "locked": true,
     "schema_version": 3,
     "solution": false,
     "task": false
    }
   },
   "source": [
    "Combien de comparaisons sont opérées au maximum avec cette nouvelle fonction si la liste contient 200 éléments ?"
   ]
  },
  {
   "cell_type": "code",
   "execution_count": null,
   "id": "72a3d1f1",
   "metadata": {
    "deletable": false,
    "editable": false,
    "nbgrader": {
     "cell_type": "code",
     "checksum": "7736af862b4633512e946a3af3b27c0d",
     "grade": false,
     "grade_id": "cell-e07a6a2577fd841b",
     "locked": true,
     "schema_version": 3,
     "solution": false,
     "task": false
    }
   },
   "outputs": [],
   "source": [
    "# Pour vous aider à raisonner\n",
    "N = 10\n",
    "for i in range(N-1) :\n",
    "    L = []\n",
    "    for j in range(i+1,N) :\n",
    "        L.append((i,j))\n",
    "    print(L)"
   ]
  },
  {
   "cell_type": "code",
   "execution_count": null,
   "id": "647e3194",
   "metadata": {},
   "outputs": [],
   "source": [
    "# noter votre réponse en affectant à la variable nb3 le nombre de comparaisons calculé\n",
    "nb3 = "
   ]
  },
  {
   "cell_type": "code",
   "execution_count": null,
   "id": "a4d0a437",
   "metadata": {
    "deletable": false,
    "editable": false,
    "nbgrader": {
     "cell_type": "code",
     "checksum": "70f1c6ed9a7f4f4e2ca2e0d9e2ec8c71",
     "grade": true,
     "grade_id": "rep4",
     "locked": true,
     "points": 1,
     "schema_version": 3,
     "solution": false,
     "task": false
    }
   },
   "outputs": [],
   "source": [
    "# cellule de test (ne as modifier)"
   ]
  },
  {
   "cell_type": "code",
   "execution_count": null,
   "id": "0fc6e1a6",
   "metadata": {
    "deletable": false,
    "editable": false,
    "nbgrader": {
     "cell_type": "code",
     "checksum": "85f8b7f67e346aed281dda74d363ea51",
     "grade": false,
     "grade_id": "cell-acc1738d4e0a9221",
     "locked": true,
     "schema_version": 3,
     "solution": false,
     "task": false
    }
   },
   "outputs": [],
   "source": [
    "# L'exécution prend du temps\n",
    "from random import randint\n",
    "\n",
    "I, T_dup, T_dup_bis = [], [], []\n",
    "\n",
    "for i in range(200,5000,200) :\n",
    "    L = [i for i in range(i)]\n",
    "    start = time()\n",
    "    cherche_duplicata(L)\n",
    "    stop1 = time()\n",
    "    cherche_duplicata_bis(L)\n",
    "    stop2 = time()\n",
    "    I.append(i)\n",
    "    T_dup.append(stop1-start)\n",
    "    T_dup_bis.append(stop2-stop1)\n",
    "    \n",
    "fig,axs = plt.subplots(3,figsize = (15,15))\n",
    "axs[0].plot(I,T_dup)\n",
    "axs[0].set_title(\"cherche_duplicata\")\n",
    "axs[1].plot(I,T_dup_bis,c='#3388BB',label=\"cherche_duplicata_bis\")\n",
    "axs[1].set_title(\"cherche_duplicata_bis\")\n",
    "axs[2].plot(I,T_dup,label=\"cherche_duplicata\")\n",
    "axs[2].plot(I,T_dup_bis,c='#3388BB',label=\"cherche_duplicata_bis\")\n",
    "axs[2].set_title(\"Comparaison\")\n",
    "axs[2].legend()"
   ]
  },
  {
   "cell_type": "markdown",
   "id": "5847922d",
   "metadata": {
    "deletable": false,
    "editable": false,
    "nbgrader": {
     "cell_type": "markdown",
     "checksum": "3f71323570c67cedb580c20e9f818c0b",
     "grade": false,
     "grade_id": "cell-fb0e6939565fde12",
     "locked": true,
     "schema_version": 3,
     "solution": false,
     "task": false
    }
   },
   "source": [
    "On constate que même si l'amélioration est visible entre les deux fonctions, le comportement général (la classe de complexité comme on le verra plus tard) est identique."
   ]
  },
  {
   "cell_type": "markdown",
   "id": "1169a2f1",
   "metadata": {
    "deletable": false,
    "editable": false,
    "nbgrader": {
     "cell_type": "markdown",
     "checksum": "bddba50f4ea9abd9fff76e6255ce41b5",
     "grade": false,
     "grade_id": "cell-61a0a4bb0d20fd19",
     "locked": true,
     "schema_version": 3,
     "solution": false,
     "task": false
    }
   },
   "source": [
    "# Intégration numérique"
   ]
  },
  {
   "cell_type": "code",
   "execution_count": null,
   "id": "c7f6ae2c",
   "metadata": {},
   "outputs": [],
   "source": [
    "def trapeze(f, a, b): \n",
    "    return (f(a) + f(b))/2 * (b - a)\n",
    "\n",
    "def rect_gauche(f, a, b):\n",
    "    return f(a)*(b-a)"
   ]
  },
  {
   "cell_type": "code",
   "execution_count": null,
   "id": "b81331b1",
   "metadata": {},
   "outputs": [],
   "source": [
    "def integrale(f, a, b, n, methode):\n",
    "    p = (b-a)/n\n",
    "    s = 0\n",
    "    for i in range(n) :\n",
    "        s += methode(f,a+i*p,a+(i+1)*p)\n",
    "    return s"
   ]
  },
  {
   "cell_type": "code",
   "execution_count": null,
   "id": "ea860b34",
   "metadata": {},
   "outputs": [],
   "source": [
    "def f(x) :\n",
    "    return np.cos(x)*x**2 + 10"
   ]
  },
  {
   "cell_type": "code",
   "execution_count": null,
   "id": "cc60ba74",
   "metadata": {},
   "outputs": [],
   "source": [
    "import numpy as np\n",
    "import matplotlib.patches as patches\n",
    "\n",
    "a = -np.pi\n",
    "b = 3/2*np.pi\n",
    "x = np.linspace(a,b,2000)\n",
    "y = f(x)\n",
    "n_possibles = (6,10,20,50,200)\n",
    "\n",
    "fig,axs = plt.subplots(5,2,figsize=(20,20))\n",
    "for k in range(5) :\n",
    "    n = n_possibles[k]\n",
    "    p = (b-a)/n\n",
    "    I_rect = integrale(f,a,b,n,rect_gauche)\n",
    "    I_trap = integrale(f,a,b,n,trapeze)\n",
    "    for i in range(n) :\n",
    "        rect = plt.Polygon(((a+i*p,0),(a+i*p,f(a+i*p)),(a+(i+1)*p,f(a+i*p)),(a+(i+1)*p,0),(a+i*p,0)),alpha=0.5,facecolor='#9988DD',edgecolor='#9988DD')\n",
    "        trap = plt.Polygon(((a+i*p,0),(a+i*p,f(a+i*p)),(a+(i+1)*p,f(a+(i+1)*p)),(a+(i+1)*p,0),(a+i*p,0)),alpha=0.5,edgecolor='#3388BB')\n",
    "        for j in range(2) :\n",
    "            axs[k][j].plot(x,y,c='#EE6666')\n",
    "        axs[k][0].add_patch(rect)\n",
    "        axs[k][1].add_patch(trap)\n",
    "    axs[k][0].text(0,4,s=f'I = {I_rect:.2f}',fontsize=18,c='w',horizontalalignment='center')\n",
    "    axs[k][1].text(0,4,s=f'I = {I_trap:.2f}',fontsize=18,c='w',horizontalalignment='center')"
   ]
  },
  {
   "cell_type": "markdown",
   "id": "60b11d29",
   "metadata": {
    "deletable": false,
    "editable": false,
    "nbgrader": {
     "cell_type": "markdown",
     "checksum": "be890c758b9008f06d95b1ceacea2047",
     "grade": false,
     "grade_id": "cell-ab557e8a83999f21",
     "locked": true,
     "schema_version": 3,
     "solution": false,
     "task": false
    }
   },
   "source": [
    "À comparer à :\n",
    "$$ \\int_{-\\pi}^{3\\pi/2}(x^2\\cos(x)+10)dx = 2+23\\pi-9\\frac{\\pi^2}{4}\\approx 52,05$$"
   ]
  },
  {
   "cell_type": "markdown",
   "id": "ee74cd22",
   "metadata": {
    "deletable": false,
    "editable": false,
    "nbgrader": {
     "cell_type": "markdown",
     "checksum": "18174e71aeb0102ac0cec27b1bd8568d",
     "grade": false,
     "grade_id": "cell-fe49d42af1b8764c",
     "locked": true,
     "schema_version": 3,
     "solution": false,
     "task": false
    }
   },
   "source": [
    "Pour quelle valeur de $n$, la valeur de $I$ atteint-elle 52 (à 0,5 près) avec la méthode des rectangles à gauche ?<br>\n",
    "Vous appelerez cette valeur `n_cible` et votre code devra l'afficher."
   ]
  },
  {
   "cell_type": "code",
   "execution_count": null,
   "id": "427c7fa1",
   "metadata": {
    "deletable": false,
    "nbgrader": {
     "cell_type": "code",
     "checksum": "9bb7df7f6aa487ba22952d828ab88940",
     "grade": false,
     "grade_id": "nbcible",
     "locked": false,
     "schema_version": 3,
     "solution": true,
     "task": false
    }
   },
   "outputs": [],
   "source": [
    "# VOTRE CODE"
   ]
  },
  {
   "cell_type": "code",
   "execution_count": null,
   "id": "a5f5fd57",
   "metadata": {
    "deletable": false,
    "editable": false,
    "nbgrader": {
     "cell_type": "code",
     "checksum": "da0e7046b7b18bd9ea8fd0c606da7748",
     "grade": true,
     "grade_id": "rep_nbcible",
     "locked": true,
     "points": 1,
     "schema_version": 3,
     "solution": false,
     "task": false
    }
   },
   "outputs": [],
   "source": [
    "# cellule de test (ne as modifier)"
   ]
  }
 ],
 "metadata": {
  "kernelspec": {
   "display_name": "Python 3",
   "language": "python",
   "name": "python3"
  },
  "language_info": {
   "codemirror_mode": {
    "name": "ipython",
    "version": 3
   },
   "file_extension": ".py",
   "mimetype": "text/x-python",
   "name": "python",
   "nbconvert_exporter": "python",
   "pygments_lexer": "ipython3",
   "version": "3.8.12"
  }
 },
 "nbformat": 4,
 "nbformat_minor": 5
}
